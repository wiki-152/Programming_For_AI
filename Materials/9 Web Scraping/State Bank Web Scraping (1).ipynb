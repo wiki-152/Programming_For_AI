{
 "cells": [
  {
   "cell_type": "code",
   "execution_count": 1,
   "id": "c173ec77",
   "metadata": {},
   "outputs": [],
   "source": [
    "import re\n",
    "import urllib\n",
    "import os\n",
    "\n",
    "from selenium import webdriver\n",
    "from selenium.webdriver.chrome.options import Options\n",
    "from selenium.webdriver.common.keys import Keys\n",
    "from selenium.webdriver.common.by import By\n",
    "from selenium.common.exceptions import NoSuchElementException"
   ]
  },
  {
   "cell_type": "code",
   "execution_count": 2,
   "id": "c6d73236",
   "metadata": {},
   "outputs": [],
   "source": [
    "from selenium import webdriver\n",
    "from selenium.webdriver.chrome.service import Service as ChromeService\n",
    "from webdriver_manager.chrome import ChromeDriverManager\n",
    "\n",
    "driver = webdriver.Chrome(service=ChromeService(ChromeDriverManager().install()))"
   ]
  },
  {
   "cell_type": "code",
   "execution_count": 3,
   "id": "016643c0",
   "metadata": {},
   "outputs": [],
   "source": [
    "url = 'https://www.nu.edu.pk/'"
   ]
  },
  {
   "cell_type": "code",
   "execution_count": 4,
   "id": "d7463e6c",
   "metadata": {},
   "outputs": [],
   "source": [
    "driver.get(url)"
   ]
  },
  {
   "cell_type": "code",
   "execution_count": 5,
   "id": "be1f900a",
   "metadata": {},
   "outputs": [],
   "source": [
    "table = driver.find_element(By.XPATH, '/html/body/form/table/tbody/tr[2]/td/table/tbody/tr/td/table/tbody/tr[2]/td/table/tbody/tr[2]/td/div/table/tbody')\n",
    "table_rows = table.find_elements(By.TAG_NAME, 'tr')\n",
    "\n",
    "base_folder = r\"C:\\Users\\abdul\\Notebooks\\AIMS Lab\\Files\\State_Bank\"\n",
    "folder = ''\n",
    "\n",
    "for row in table_rows:\n",
    "    if (len(row.text) != 0) and ('IHFD Old' in row.text or  (bool(re.search('^[1-9]\\d*$', row.text)))):\n",
    "        folder = os.path.join(base_folder, row.text)\n",
    "        try:\n",
    "            os.mkdir(folder)\n",
    "        except FileExistsError:\n",
    "            pass\n",
    "    else:\n",
    "        anchor_tags =  row.find_elements(By.TAG_NAME, 'a')\n",
    "        for tag in anchor_tags:\n",
    "            download_link = tag.get_attribute(\"href\")\n",
    "            \n",
    "            try:\n",
    "                urllib.request.urlretrieve(download_link, os.path.join(folder, tag.text+'.pdf'))\n",
    "            except (urllib.error.URLError, urllib.error.HTTPError): \n",
    "                pass\n",
    "            "
   ]
  },
  {
   "cell_type": "code",
   "execution_count": null,
   "id": "fc14de38",
   "metadata": {},
   "outputs": [],
   "source": []
  }
 ],
 "metadata": {
  "kernelspec": {
   "display_name": "Python 3 (ipykernel)",
   "language": "python",
   "name": "python3"
  },
  "language_info": {
   "codemirror_mode": {
    "name": "ipython",
    "version": 3
   },
   "file_extension": ".py",
   "mimetype": "text/x-python",
   "name": "python",
   "nbconvert_exporter": "python",
   "pygments_lexer": "ipython3",
   "version": "3.9.12"
  }
 },
 "nbformat": 4,
 "nbformat_minor": 5
}
