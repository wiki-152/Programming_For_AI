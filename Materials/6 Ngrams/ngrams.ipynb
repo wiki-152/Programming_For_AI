{
  "nbformat": 4,
  "nbformat_minor": 0,
  "metadata": {
    "colab": {
      "provenance": []
    },
    "kernelspec": {
      "name": "python3",
      "display_name": "Python 3"
    },
    "language_info": {
      "name": "python"
    }
  },
  "cells": [
    {
      "cell_type": "code",
      "execution_count": 1,
      "metadata": {
        "id": "kwOaBweX49L2"
      },
      "outputs": [],
      "source": [
        "text = \"\"\"The Young King\n",
        "The Birthday of the Infanta\n",
        "The Fisherman and his Soul\n",
        "The Star-child\"\"\""
      ]
    },
    {
      "cell_type": "code",
      "source": [
        "import nltk\n",
        "nltk.download('punkt')"
      ],
      "metadata": {
        "colab": {
          "base_uri": "https://localhost:8080/"
        },
        "id": "ft1SyM0s5HyK",
        "outputId": "504ce252-9a67-4f05-e20f-466235483702"
      },
      "execution_count": 33,
      "outputs": [
        {
          "output_type": "stream",
          "name": "stderr",
          "text": [
            "[nltk_data] Downloading package punkt to /root/nltk_data...\n",
            "[nltk_data]   Package punkt is already up-to-date!\n"
          ]
        },
        {
          "output_type": "execute_result",
          "data": {
            "text/plain": [
              "True"
            ]
          },
          "metadata": {},
          "execution_count": 33
        }
      ]
    },
    {
      "cell_type": "code",
      "source": [
        "# normalizung the data\n",
        "text = text.lower()\n",
        "text"
      ],
      "metadata": {
        "colab": {
          "base_uri": "https://localhost:8080/",
          "height": 35
        },
        "id": "DY7kiUvvEwav",
        "outputId": "eba9aea8-0dd3-475e-c0f3-fb19efd643d0"
      },
      "execution_count": 34,
      "outputs": [
        {
          "output_type": "execute_result",
          "data": {
            "text/plain": [
              "'the young king\\nthe birthday of the infanta\\nthe fisherman and his soul\\nthe star-child'"
            ],
            "application/vnd.google.colaboratory.intrinsic+json": {
              "type": "string"
            }
          },
          "metadata": {},
          "execution_count": 34
        }
      ]
    },
    {
      "cell_type": "code",
      "source": [
        "# character wise frequency distribution\n",
        "myFD = nltk.FreqDist(text)\n",
        "myFD"
      ],
      "metadata": {
        "colab": {
          "base_uri": "https://localhost:8080/"
        },
        "id": "wt3u3JGy5NeL",
        "outputId": "3c7248c9-cfe2-4123-fce2-5df84f913cb8"
      },
      "execution_count": 42,
      "outputs": [
        {
          "output_type": "execute_result",
          "data": {
            "text/plain": [
              "FreqDist({' ': 11, 'h': 9, 't': 8, 'e': 6, 'n': 6, 'i': 6, 'a': 6, 's': 4, 'o': 3, '\\n': 3, ...})"
            ]
          },
          "metadata": {},
          "execution_count": 42
        }
      ]
    },
    {
      "cell_type": "code",
      "source": [
        "# generating tokens before creating ngrams\n",
        "[tokens] = nltk.word_tokenize(text)\n",
        "tokens"
      ],
      "metadata": {
        "colab": {
          "base_uri": "https://localhost:8080/"
        },
        "id": "OD8Bb3rM5S4A",
        "outputId": "8e4ae716-fa8c-44f9-b349-284c49751af5"
      },
      "execution_count": 43,
      "outputs": [
        {
          "output_type": "execute_result",
          "data": {
            "text/plain": [
              "['the',\n",
              " 'young',\n",
              " 'king',\n",
              " 'the',\n",
              " 'birthday',\n",
              " 'of',\n",
              " 'the',\n",
              " 'infanta',\n",
              " 'the',\n",
              " 'fisherman',\n",
              " 'and',\n",
              " 'his',\n",
              " 'soul',\n",
              " 'the',\n",
              " 'star-child']"
            ]
          },
          "metadata": {},
          "execution_count": 43
        }
      ]
    },
    {
      "cell_type": "code",
      "source": [
        "# unigrams\n",
        "unigrams = nltk.ngrams(tokens, 1)\n",
        "unigramFD = nltk.FreqDist(unigrams)\n",
        "\n",
        "for token in list(unigramFD.items()):\n",
        "    print(token[0], token[1])"
      ],
      "metadata": {
        "colab": {
          "base_uri": "https://localhost:8080/"
        },
        "id": "IlAVKS-y6E_7",
        "outputId": "ca0fb02d-f283-4bee-dbcf-891bb64b3ee6"
      },
      "execution_count": 44,
      "outputs": [
        {
          "output_type": "stream",
          "name": "stdout",
          "text": [
            "('the',) 5\n",
            "('young',) 1\n",
            "('king',) 1\n",
            "('birthday',) 1\n",
            "('of',) 1\n",
            "('infanta',) 1\n",
            "('fisherman',) 1\n",
            "('and',) 1\n",
            "('his',) 1\n",
            "('soul',) 1\n",
            "('star-child',) 1\n"
          ]
        }
      ]
    },
    {
      "cell_type": "code",
      "source": [
        "# bigrams\n",
        "bigrams = nltk.ngrams(tokens, 2)\n",
        "bigramsFD = nltk.FreqDist(bigrams)\n",
        "\n",
        "for bigram in list(bigramsFD.items()):\n",
        "    print(bigram[0], bigram[1])"
      ],
      "metadata": {
        "colab": {
          "base_uri": "https://localhost:8080/"
        },
        "id": "89AL0xfA633K",
        "outputId": "62f39dce-f874-401c-c98d-c1902a9826a6"
      },
      "execution_count": 45,
      "outputs": [
        {
          "output_type": "stream",
          "name": "stdout",
          "text": [
            "('the', 'young') 1\n",
            "('young', 'king') 1\n",
            "('king', 'the') 1\n",
            "('the', 'birthday') 1\n",
            "('birthday', 'of') 1\n",
            "('of', 'the') 1\n",
            "('the', 'infanta') 1\n",
            "('infanta', 'the') 1\n",
            "('the', 'fisherman') 1\n",
            "('fisherman', 'and') 1\n",
            "('and', 'his') 1\n",
            "('his', 'soul') 1\n",
            "('soul', 'the') 1\n",
            "('the', 'star-child') 1\n"
          ]
        }
      ]
    },
    {
      "cell_type": "code",
      "source": [
        "# trigrams\n",
        "trigrams = nltk.ngrams(tokens, 3)\n",
        "trigramsFD = nltk.FreqDist(trigrams)\n",
        "\n",
        "for trigram in list(trigramsFD.items()):\n",
        "    print(trigram[0], trigram[1])"
      ],
      "metadata": {
        "colab": {
          "base_uri": "https://localhost:8080/"
        },
        "id": "0n68yHan79Lv",
        "outputId": "00292496-d56e-479b-c3e1-19a77e8aa047"
      },
      "execution_count": 46,
      "outputs": [
        {
          "output_type": "stream",
          "name": "stdout",
          "text": [
            "('the', 'young', 'king') 1\n",
            "('young', 'king', 'the') 1\n",
            "('king', 'the', 'birthday') 1\n",
            "('the', 'birthday', 'of') 1\n",
            "('birthday', 'of', 'the') 1\n",
            "('of', 'the', 'infanta') 1\n",
            "('the', 'infanta', 'the') 1\n",
            "('infanta', 'the', 'fisherman') 1\n",
            "('the', 'fisherman', 'and') 1\n",
            "('fisherman', 'and', 'his') 1\n",
            "('and', 'his', 'soul') 1\n",
            "('his', 'soul', 'the') 1\n",
            "('soul', 'the', 'star-child') 1\n"
          ]
        }
      ]
    },
    {
      "cell_type": "code",
      "source": [
        "x = 10\n",
        "y = 3\n",
        "\n",
        "print(x//y)\n",
        "print(-x//y)"
      ],
      "metadata": {
        "id": "o0QQ4mqNZkjy"
      },
      "execution_count": null,
      "outputs": []
    },
    {
      "cell_type": "code",
      "source": [
        "# 3\n",
        "# -4"
      ],
      "metadata": {
        "id": "pCJWQObjBCL0"
      },
      "execution_count": null,
      "outputs": []
    }
  ]
}